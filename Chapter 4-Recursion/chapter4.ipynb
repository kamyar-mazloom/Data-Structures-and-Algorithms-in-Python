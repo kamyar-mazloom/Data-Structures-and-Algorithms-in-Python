{
 "cells": [
  {
   "cell_type": "code",
   "execution_count": 2,
   "metadata": {},
   "outputs": [],
   "source": [
    "#-------------Binary search-------------#\n",
    "\n",
    "def binary_search(data,target,low,high):\n",
    "  if low > high: \n",
    "    return False \n",
    "  else: \n",
    "    mid = (low + high) // 2 \n",
    "    \n",
    "    if target == data[mid]:\n",
    "      return True \n",
    "    \n",
    "    elif target > data[mid]: \n",
    "      return binary_search(data,target,mid+1,high)\n",
    "    \n",
    "    else: \n",
    "      return binary_search(data,target,low,mid-1)"
   ]
  },
  {
   "cell_type": "code",
   "execution_count": 2,
   "metadata": {},
   "outputs": [
    {
     "name": "stdout",
     "output_type": "stream",
     "text": [
      "8\n",
      "100\n",
      "8\n"
     ]
    }
   ],
   "source": [
    "#-------------R-4.1-------------#\n",
    "\n",
    "def rec_find_max(S,index): \n",
    "  if index == len(S)-1: \n",
    "    return S[index]\n",
    "  return max(S[index],rec_find_max(S,index+1))\n",
    "\n",
    "def find_max(S):\n",
    "  return rec_find_max(S,0)\n",
    "  \n",
    "print(find_max([1,2,3,4,5,6,7,8]))\n",
    "print(find_max([1,2,3,4,100,6,7,8]))\n",
    "print(find_max([8,7,6,5,4,3,2,1]))\n",
    "\n",
    "\"\"\"\n",
    "it takes o(n) time as I need to run n calls to recursion each taking\n",
    "o(1) time. \n",
    "\"\"\""
   ]
  },
  {
   "cell_type": "code",
   "execution_count": 4,
   "metadata": {},
   "outputs": [
    {
     "name": "stdout",
     "output_type": "stream",
     "text": [
      "32\n"
     ]
    }
   ],
   "source": [
    "#-------------R-4.2-------------#\n",
    "\n",
    "def power(x,n): \n",
    "  if n==0: \n",
    "    return 1 \n",
    "  else: \n",
    "    return x * power(x,n-1)\n",
    "\n",
    "print(power(2,5))\n",
    "\n",
    "\"\"\"\n",
    "power(2,5) = 2 * power(2,4)\n",
    "power(2,4) = 2 * power(2,3)\n",
    "power(2,3) = 2 * power(2,2)\n",
    "power(2,1) = 2 * power(2,0)\n",
    "power(2,0) = 1\n",
    "\n",
    "power(2,5) = 2 * 2 * 2 * 2 * 2 * 1 = 32\n",
    "\"\"\""
   ]
  },
  {
   "cell_type": "code",
   "execution_count": 6,
   "metadata": {},
   "outputs": [
    {
     "name": "stdout",
     "output_type": "stream",
     "text": [
      "262144\n"
     ]
    },
    {
     "data": {
      "text/plain": [
       "'\\n\\n'"
      ]
     },
     "execution_count": 6,
     "metadata": {},
     "output_type": "execute_result"
    }
   ],
   "source": [
    "#-------------R-4.3-------------#\n",
    "\n",
    "def power(x,n):\n",
    "  if n==0:\n",
    "    return 1\n",
    "  else: \n",
    "    partial = power(x , n // 2)\n",
    "    result = partial * partial \n",
    "    if n % 2 == 1:\n",
    "      result *= x\n",
    "    return result\n",
    "\n",
    "print(power(2,18))\n",
    "\n",
    "\"\"\"\n",
    "power(2,18) = power(2,9) * power(2,9) = \n",
    "(2 * ((2 * 2) * (2 * 2)) * ((2* 2) * (2 * 2))) * (2 * ((2 * 2) * (2 * 2)) * ((2 * 2) * (2 * 2)))\n",
    "  \n",
    "  power(2,9) = 2 * power(2,4) * power(2,4) = 2 * ((2 * 2) * (2 * 2)) * ((2 * 2) * (2 * 2)) \n",
    "  power(2,9) = 2 * power(2,4) * power(2,4) = 2 * ((2 * 2) * (2 * 2)) * ((2 * 2) * (2 * 2)) \n",
    "\n",
    "    power(2,4) = power(2,2) * power(2,2) = (2 * 2) * (2 * 2)\n",
    "    power(2,4) = power(2,2) * power(2,2) = (2 * 2) * (2 * 2) \n",
    "\n",
    "      power(2,2) = power(2,1) * power(2,1) = 2 * 2\n",
    "      power(2,2) = power(2,1) * power(2,1) = 2 * 2\n",
    "\n",
    "        power(2,1) = 2 * Power(2,0) * Power(2,0) = 2\n",
    "\"\"\""
   ]
  },
  {
   "cell_type": "code",
   "execution_count": 7,
   "metadata": {},
   "outputs": [
    {
     "name": "stdout",
     "output_type": "stream",
     "text": [
      "2.9289682539682538\n"
     ]
    }
   ],
   "source": [
    "#-------------R-4.6-------------#\n",
    "\n",
    "def harmonic_number(n): \n",
    "  if n==1: \n",
    "    return 1 \n",
    "  else:\n",
    "    return 1/n + harmonic_number(n-1)\n",
    "\n",
    "print(harmonic_number(10))"
   ]
  },
  {
   "cell_type": "code",
   "execution_count": 8,
   "metadata": {},
   "outputs": [
    {
     "name": "stdout",
     "output_type": "stream",
     "text": [
      "1234567\n"
     ]
    }
   ],
   "source": [
    "#-------------R-4.7-------------#\n",
    "\n",
    "def str_to_int(string,index=0): \n",
    "  length = len(string)\n",
    "  if index == length -1 : \n",
    "    return int(string[index])\n",
    "  else: \n",
    "    return int(string[index])*10**(length-index-1) + str_to_int(string, index+1)\n",
    "\n",
    "print(str_to_int(\"1234567\"))"
   ]
  },
  {
   "cell_type": "code",
   "execution_count": null,
   "metadata": {},
   "outputs": [],
   "source": [
    "#-------------C-4.9-------------#\n",
    "\n",
    "def min_max(S,index=0): \n",
    "  if index == len(S)-1:\n",
    "    return S[index],S[index]\n",
    "  else: \n",
    "    min_S,max_S = min_max(S,index+1)\n",
    "    return min(S[index],min_S), max(S[index], max_S)"
   ]
  },
  {
   "cell_type": "markdown",
   "metadata": {},
   "source": []
  }
 ],
 "metadata": {
  "kernelspec": {
   "display_name": "Python 3.10.6 64-bit",
   "language": "python",
   "name": "python3"
  },
  "language_info": {
   "codemirror_mode": {
    "name": "ipython",
    "version": 3
   },
   "file_extension": ".py",
   "mimetype": "text/x-python",
   "name": "python",
   "nbconvert_exporter": "python",
   "pygments_lexer": "ipython3",
   "version": "3.10.6"
  },
  "orig_nbformat": 4,
  "vscode": {
   "interpreter": {
    "hash": "b0fa6594d8f4cbf19f97940f81e996739fb7646882a419484c72d19e05852a7e"
   }
  }
 },
 "nbformat": 4,
 "nbformat_minor": 2
}
