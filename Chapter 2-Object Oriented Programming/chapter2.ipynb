{
 "cells": [
  {
   "cell_type": "code",
   "execution_count": 57,
   "metadata": {},
   "outputs": [
    {
     "data": {
      "text/plain": [
       "'\\nself driving cars \\npace maker \\ndiving computers '"
      ]
     },
     "execution_count": 57,
     "metadata": {},
     "output_type": "execute_result"
    }
   ],
   "source": [
    "#-------------R-2.1-------------#\n",
    "\"\"\"\n",
    "self driving cars \n",
    "pace maker \n",
    "diving computers \"\"\""
   ]
  },
  {
   "cell_type": "code",
   "execution_count": 58,
   "metadata": {},
   "outputs": [
    {
     "data": {
      "text/plain": [
       "'Calendar app '"
      ]
     },
     "execution_count": 58,
     "metadata": {},
     "output_type": "execute_result"
    }
   ],
   "source": [
    "#-------------R-2.2-------------#\n",
    "\n",
    "\"\"\"Calendar app \"\"\""
   ]
  },
  {
   "cell_type": "code",
   "execution_count": 59,
   "metadata": {},
   "outputs": [
    {
     "data": {
      "text/plain": [
       "'\\nsaving a file \\n  1. check if the file already exists\\n  2. if the files does not exist create a new file with the name of\\n     file \\n  3. if the file does exist remove the file and replace it with the\\n     current version of the file \\n     \\n'"
      ]
     },
     "execution_count": 59,
     "metadata": {},
     "output_type": "execute_result"
    }
   ],
   "source": [
    "#-------------R-2.3-------------#\n",
    "\"\"\"\n",
    "saving a file \n",
    "  1. check if the file already exists\n",
    "  2. if the files does not exist create a new file with the name of\n",
    "     file \n",
    "  3. if the file does exist remove the file and replace it with the\n",
    "     current version of the file \n",
    "     \n",
    "\"\"\"\n"
   ]
  },
  {
   "cell_type": "code",
   "execution_count": 60,
   "metadata": {},
   "outputs": [
    {
     "name": "stdout",
     "output_type": "stream",
     "text": [
      "rose 12 2.53\n"
     ]
    }
   ],
   "source": [
    "#-------------R-2.4-------------#\n",
    "\n",
    "class Flower:\n",
    "  \"\"\"a flower class\"\"\"\n",
    "  def __init__(self,name,petal_num,price):\n",
    "    \"\"\"creates a new instance of flower class.\n",
    "      \n",
    "      name ==> is the name of the flower\n",
    "      petal_num ==> is the number of petals the flower has \n",
    "      price ==> is the price of the flower\n",
    "    \"\"\"\n",
    "    self.set_name(name)\n",
    "    self.set_petal_num(petal_num)\n",
    "    self.set_price(price)\n",
    "\n",
    "    \"\"\"setting up the variables\"\"\"\n",
    "\n",
    "  def set_name(self,name): \n",
    "      try: \n",
    "        self._name = str(name)\n",
    "      except: \n",
    "        print(\"invalid data type for name, it should be a string\")\n",
    "\n",
    "  def set_petal_num(self,petal_num):\n",
    "      try: \n",
    "        self._petal_num = int(petal_num)\n",
    "      except:\n",
    "        print(\"invalid data type for number of petals. it should be an int\")\n",
    "      \n",
    "  def set_price(self,price):\n",
    "      try: \n",
    "        self._price = float(price)\n",
    "      except:\n",
    "        print(\"invalid data type for price. it should be a float\")\n",
    "    \n",
    "  \"\"\"\n",
    "  functions for setting the variables and checking to make sure they\n",
    "  have the correct type of data type\n",
    "  \"\"\" \n",
    "\n",
    "  def get_name(self):\n",
    "      if self._name is None: \n",
    "        return (\"name has not yet been assigned\")\n",
    "      else: return self._name  \n",
    "\n",
    "  def get_petal_num(self):\n",
    "      if self._petal_num is None: \n",
    "        return (\"number of petals has not yet been assigned\")\n",
    "      else: return self._petal_num  \n",
    "\n",
    "  def get_price(self):\n",
    "      if self._price is None: \n",
    "        return (\"price has not yet been assigned\")\n",
    "      else: return self._price  \n",
    "\n",
    "  \"\"\"functions for getting the value of each variable\"\"\"  \n",
    "\n",
    "Rose = Flower(\"rose\",12,2.53)\n",
    "print(Rose.get_name(), Rose.get_petal_num(), Rose.get_price())\n",
    "  "
   ]
  },
  {
   "cell_type": "code",
   "execution_count": 61,
   "metadata": {},
   "outputs": [
    {
     "name": "stdout",
     "output_type": "stream",
     "text": [
      "kamyar mazloom bank of America 1234543 5000.0\n",
      "this purchase will move you over the limit of your account.\n",
      "kamyar mazloom bank of America 1234543 5000.0\n",
      "payment amount cannot be less than zero\n",
      "you've paid $2500 of your debt. Your remaining debt is $500.0\n",
      "you've fully paid your debt. your balance has increased to $7000.0\n",
      "kamyar mazloom bank of America 1234543 7000.0\n"
     ]
    }
   ],
   "source": [
    "#-------------R-2.5 & R-2.6-------------#\n",
    "\n",
    "class CreditCard():\n",
    "  def __init__(self, customer, bank, account, limit):\n",
    "    self._customer = customer\n",
    "    self._bank = bank\n",
    "    self._account = account\n",
    "    self._limit = float(limit)\n",
    "    self._balance = 0 #start the balance with zero \n",
    "\n",
    "  def get_customer(self): \n",
    "    return self._customer \n",
    "  def get_bank(self): \n",
    "    return self._bank \n",
    "  def get_account(self): \n",
    "      return self._account \n",
    "  def get_limit(self): \n",
    "      return self._limit \n",
    "\n",
    "  def set_balance(self,value): \n",
    "    self._balance = value\n",
    "  \n",
    "  def charge(self, price): \n",
    "    try: \n",
    "      price = float(price)\n",
    "    except: \n",
    "      print('invalid price. Price should be a number without $ symbol.')\n",
    "    if (price + self._balance > self._limit):\n",
    "      print('this purchase will move you over the limit of your account.')\n",
    "    else: \n",
    "      self._balance += price \n",
    "\n",
    "  def payment(self, amount): \n",
    "    if(amount<0):\n",
    "      print(\"payment amount cannot be less than zero\")\n",
    "    elif (self._balance >= amount): \n",
    "      self._balance -= amount\n",
    "      print(f\"you've paid ${amount} of your debt. Your remaining debt is ${self._balance}\")\n",
    "    else: \n",
    "      self._limit += amount - self._balance\n",
    "      self._balance = 0 \n",
    "      print(f\"you've fully paid your debt. your balance has increased to ${self._limit}\")\n",
    "       \n",
    "CreditCard1 = CreditCard(\"kamyar mazloom\",\"bank of America\",\"1234543\",\"5000\")\n",
    "\n",
    "print(CreditCard1.get_customer(),CreditCard1.get_bank(),\n",
    "CreditCard1.get_account(),CreditCard1.get_limit())\n",
    "\n",
    "CreditCard1.charge(3000)\n",
    "CreditCard1.charge(3000)\n",
    "\n",
    "print(CreditCard1.get_customer(),CreditCard1.get_bank(),\n",
    "CreditCard1.get_account(),CreditCard1.get_limit())\n",
    "\n",
    "CreditCard1.payment(-2500)\n",
    "CreditCard1.payment(2500)\n",
    "CreditCard1.payment(2500)\n",
    "\n",
    "print(CreditCard1.get_customer(),CreditCard1.get_bank(),\n",
    "CreditCard1.get_account(),CreditCard1.get_limit())\n"
   ]
  },
  {
   "cell_type": "code",
   "execution_count": 62,
   "metadata": {},
   "outputs": [
    {
     "name": "stdout",
     "output_type": "stream",
     "text": [
      "kamyar mazloom bank of America 1234543 5000.0 1000\n",
      "this purchase will move you over the limit of your account.\n",
      "kamyar mazloom bank of America 1234543 5000.0\n",
      "payment amount cannot be less than zero\n",
      "you've paid $2500 of your debt. Your remaining debt is $1500.0\n",
      "you've fully paid your debt. your balance has increased to $6000.0\n",
      "kamyar mazloom bank of America 1234543 6000.0\n"
     ]
    }
   ],
   "source": [
    "#-------------R-2.7-------------#\n",
    "class CreditCard():\n",
    "  def __init__(self, customer, bank, account, limit):\n",
    "    self._customer = customer\n",
    "    self._bank = bank\n",
    "    self._account = account\n",
    "    self._limit = float(limit)\n",
    "    self._balance = 0 #start the balance with zero \n",
    "\n",
    "  def get_customer(self): \n",
    "    return self._customer \n",
    "  def get_bank(self): \n",
    "    return self._bank \n",
    "  def get_account(self): \n",
    "      return self._account \n",
    "  def get_limit(self): \n",
    "      return self._limit \n",
    "\n",
    "  def set_balance(self,value): \n",
    "    self._balance = value\n",
    "  \n",
    "  def charge(self, price): \n",
    "    try: \n",
    "      price = float(price)\n",
    "    except: \n",
    "      print('invalid price. Price should be a number without $ symbol.')\n",
    "    if (price + self._balance > self._limit):\n",
    "      print('this purchase will move you over the limit of your account.')\n",
    "    else: \n",
    "      self._balance += price \n",
    "\n",
    "  def payment(self, amount): \n",
    "    if(amount<0):\n",
    "      print(\"payment amount cannot be less than zero\")\n",
    "    elif (self._balance >= amount): \n",
    "      self._balance -= amount\n",
    "      print(f\"you've paid ${amount} of your debt. Your remaining debt is ${self._balance}\")\n",
    "    else: \n",
    "      self._limit += amount - self._balance\n",
    "      self._balance = 0 \n",
    "      print(f\"you've fully paid your debt. your balance has increased to ${self._limit}\")\n",
    "\n",
    "class CreditCardWithBalance(CreditCard): \n",
    "  def __init__(self, customer, bank, account, limit, balance):\n",
    "    super().__init__(customer,bank,account,limit)\n",
    "    self._balance = balance\n",
    "    \n",
    "  def get_balance(self):\n",
    "    return self._balance \n",
    "      \n",
    "\n",
    "CreditCard2 = CreditCardWithBalance(\"kamyar mazloom\",\"bank of America\",\"1234543\",\"5000\", 1000)\n",
    "\n",
    "print(CreditCard2.get_customer(),CreditCard2.get_bank(),\n",
    "CreditCard2.get_account(),CreditCard2.get_limit(),CreditCard2.get_balance())\n",
    "\n",
    "CreditCard2.charge(3000)\n",
    "CreditCard2.charge(3000)\n",
    "\n",
    "print(CreditCard2.get_customer(),CreditCard2.get_bank(),\n",
    "CreditCard2.get_account(),CreditCard2.get_limit())\n",
    "\n",
    "CreditCard2.payment(-2500)\n",
    "CreditCard2.payment(2500)\n",
    "CreditCard2.payment(2500)\n",
    "\n",
    "print(CreditCard2.get_customer(),CreditCard2.get_bank(),\n",
    "CreditCard2.get_account(),CreditCard2.get_limit())\n"
   ]
  },
  {
   "cell_type": "code",
   "execution_count": 63,
   "metadata": {},
   "outputs": [
    {
     "name": "stdout",
     "output_type": "stream",
     "text": [
      "the amount charged ($55) is more than the remainder of your limit($15.0) \n",
      "---------------------------------------\n",
      "customer = John Bowman\n",
      "bank = California Savings\n",
      "account = 5391 0375 9387 5309\n",
      "limit = 2500.0\n",
      "balance = 2485\n",
      "---------------------------------------\n",
      "customer = John Bowman\n",
      "bank = California Federal\n",
      "account = 3485 0399 3395 1954\n",
      "limit = 3500.0\n",
      "balance = 3280\n",
      "---------------------------------------\n",
      "customer = John Bowman\n",
      "bank = California Finance\n",
      "account = 5391 0375 9387 5309\n",
      "limit = 5000.0\n",
      "balance = 4720\n"
     ]
    }
   ],
   "source": [
    "#-------------R-2.8-------------#\n",
    "\n",
    "class CreditCard():\n",
    "  def __init__(self, customer, bank, account, limit):\n",
    "    self._customer = customer\n",
    "    self._bank = bank\n",
    "    self._account = account\n",
    "    self._limit = float(limit)\n",
    "    self._balance = 0 #start the balance with zero \n",
    "\n",
    "  def get_customer(self): \n",
    "    return self._customer \n",
    "  def get_bank(self): \n",
    "    return self._bank \n",
    "  def get_account(self): \n",
    "      return self._account \n",
    "  def get_limit(self): \n",
    "      return self._limit \n",
    "\n",
    "  def set_balance(self,value): \n",
    "    self._balance = value\n",
    "  \n",
    "  def charge(self, price): \n",
    "    try: \n",
    "      price = float(price)\n",
    "    except: \n",
    "      print('invalid price. Price should be a number without $ symbol.')\n",
    "    if (price + self._balance > self._limit):\n",
    "      print('this purchase will move you over the limit of your account.')\n",
    "    else: \n",
    "      self._balance += price \n",
    "\n",
    "  def payment(self, amount): \n",
    "    if(amount<0):\n",
    "      print(\"payment amount cannot be less than zero\")\n",
    "    elif (self._balance >= amount): \n",
    "      self._balance -= amount\n",
    "      print(f\"you've paid ${amount} of your debt. Your remaining debt is ${self._balance}\")\n",
    "    else: \n",
    "      self._limit += amount - self._balance\n",
    "      self._balance = 0 \n",
    "      print(f\"you've fully paid your debt. your balance has increased to ${self._limit}\")\n",
    "\n",
    "class CreditCardWithBalance(CreditCard): \n",
    "  def __init__(self, customer, bank, account, limit, balance):\n",
    "    super().__init__(customer,bank,account,limit)\n",
    "    self._balance = balance\n",
    "    \n",
    "  def get_balance(self):\n",
    "    return self._balance \n",
    "\n",
    "  def charge(self,charge):\n",
    "    if (charge > self._limit - self._balance):\n",
    "      print( f\"the amount charged (${charge}) is more than the remainder of your limit(${self._limit - self._balance}) \")\n",
    "    else: \n",
    "      self._balance += charge\n",
    "\n",
    "\n",
    "if __name__ == \"__main__\":\n",
    "  wallet=[]\n",
    "  wallet.append(CreditCardWithBalance(\"John Bowman\",\"California Savings\",\"5391 0375 9387 5309\",2500,1000))\n",
    "  wallet.append(CreditCardWithBalance(\"John Bowman\",\"California Federal\",\"3485 0399 3395 1954\",3500,200))\n",
    "  wallet.append(CreditCardWithBalance(\"John Bowman\",\"California Finance\",\"5391 0375 9387 5309\",5000,100))\n",
    "\n",
    "  for value in range (1,56):\n",
    "    wallet[0].charge(value)\n",
    "    wallet[1].charge(value*2)\n",
    "    wallet[2].charge(value*3)\n",
    "\n",
    "  for c in range(3):\n",
    "    print(\"---------------------------------------\")\n",
    "    print(f\"customer = {wallet[c].get_customer()}\")\n",
    "    print(f\"bank = {wallet[c].get_bank()}\")\n",
    "    print(f\"account = {wallet[c].get_account()}\")\n",
    "    print(f\"limit = {wallet[c].get_limit()}\")\n",
    "    print(f\"balance = {wallet[c].get_balance()}\")"
   ]
  },
  {
   "cell_type": "code",
   "execution_count": 64,
   "metadata": {},
   "outputs": [
    {
     "name": "stdout",
     "output_type": "stream",
     "text": [
      "<5, 6, 7, 8, 9>\n",
      "<5, 4, 3, 2, 1>\n",
      "<-5, -4, -3, -2, -1>\n"
     ]
    }
   ],
   "source": [
    "#-------------R-2.9-------------#\n",
    "class Vector: \n",
    "  def __init__(self,d):\n",
    "    self._coords = [0] * d\n",
    "\n",
    "  def __len__ (self): \n",
    "    return len(self._coords)\n",
    "\n",
    "  def __getitem__(self,j): \n",
    "    return self._coords[j]\n",
    "\n",
    "  def __setitem__(self,j,val):\n",
    "    self._coords[j] = val\n",
    "  \n",
    "  def __add__(self,other): \n",
    "    if len(self) != len(other): \n",
    "      raise ValueError('dimensions must agree')\n",
    "    result = Vector(len(self))\n",
    "    for j in range(len(self)): \n",
    "      result[j] = self[j] + other[j]\n",
    "    return result\n",
    "\n",
    "  def __eq__(self,other): \n",
    "    return self._coords == other._coords\n",
    "\n",
    "  def __ne__(self,other): \n",
    "    return self == other \n",
    "\n",
    "  def __str__(self): \n",
    "    return \"<\" + str(self._coords)[1:-1] + \">\"\n",
    "\n",
    "  def __sub__(self,other): \n",
    "    if len(self) != len(other): \n",
    "      raise ValueError(\"dimensions must agree\")\n",
    "    result = Vector(len(self))\n",
    "\n",
    "    for j in range(len(self)): \n",
    "      result[j] = self[j] - other[j]\n",
    "    return result\n",
    "\n",
    "v1 = Vector(5)\n",
    "v2 = Vector(5)\n",
    "\n",
    "for i in range(5): \n",
    "  v1[i] = 5\n",
    "  v2[i] = i\n",
    "\n",
    "print( v1 + v2 )\n",
    "print( v1 - v2 )\n",
    "print( v2 - v1 )"
   ]
  },
  {
   "cell_type": "code",
   "execution_count": 65,
   "metadata": {},
   "outputs": [
    {
     "name": "stdout",
     "output_type": "stream",
     "text": [
      "<5, 6, 7, 8, 9>\n",
      "<5, 4, 3, 2, 1>\n",
      "<-5, -4, -3, -2, -1>\n",
      "<5, 5, 5, 5, 5> <-5, -5, -5, -5, -5>\n"
     ]
    }
   ],
   "source": [
    "#-------------R-2.10-------------#\n",
    "\n",
    "class VectorWithNegative(Vector): \n",
    "  def __neg__(self):\n",
    "    result = Vector(len(self))\n",
    "    for i in range(len(self)):\n",
    "      result[i] = -self[i]\n",
    "    return result\n",
    "\n",
    "v1 = VectorWithNegative(5)  \n",
    "v2 = VectorWithNegative(5)  \n",
    "\n",
    "\n",
    "for i in range(5): \n",
    "  v1[i] = 5\n",
    "  v2[i] = i\n",
    "\n",
    "print( v1 + v2 )\n",
    "print( v1 - v2 )\n",
    "print( v2 - v1 )\n",
    "print( v1 , -v1 )"
   ]
  },
  {
   "cell_type": "code",
   "execution_count": 66,
   "metadata": {},
   "outputs": [],
   "source": [
    "#-------------R-2.11-------------#\n",
    "\n",
    "# to solve the issue you should use the def__radd__(self,other) to\n",
    "# solve the issue \n"
   ]
  },
  {
   "cell_type": "code",
   "execution_count": 67,
   "metadata": {},
   "outputs": [
    {
     "name": "stdout",
     "output_type": "stream",
     "text": [
      "<0, 3, 6, 9, 12>\n",
      "<25, 25, 25, 25, 25>\n"
     ]
    }
   ],
   "source": [
    "#-------------R-2.12-------------#\n",
    "\n",
    "class VectorWithMultiplication(Vector): \n",
    "  def __mul__(self,value): \n",
    "    result = Vector(len(self))\n",
    "    for i in range(len(self)):\n",
    "      result[i] = self[i] * int(value)\n",
    "    return result\n",
    "\n",
    "v1 = VectorWithMultiplication(5)\n",
    "v2 = VectorWithMultiplication(5)\n",
    "\n",
    "for i in range(5): \n",
    "  v1[i] = i\n",
    "  v2[i] = 5\n",
    "\n",
    "print(v1*3)\n",
    "print(v2*5)"
   ]
  },
  {
   "cell_type": "code",
   "execution_count": 68,
   "metadata": {},
   "outputs": [
    {
     "name": "stdout",
     "output_type": "stream",
     "text": [
      "<0, 3, 6, 9, 12>\n",
      "<25, 25, 25, 25, 25>\n"
     ]
    }
   ],
   "source": [
    "#-------------R-2.13-------------#\n",
    "\n",
    "class VectorWrmul(VectorWithMultiplication): \n",
    "  \n",
    "  def __rmul__(self,value): \n",
    "    result = Vector(len(self))\n",
    "    for i in range(len(self)):\n",
    "      result[i] = self[i] * int(value)\n",
    "    return result\n",
    "\n",
    "v1 = VectorWrmul(5)\n",
    "v2 = VectorWrmul(5)\n",
    "\n",
    "for i in range(5): \n",
    "  v1[i] = i\n",
    "  v2[i] = 5\n",
    "\n",
    "print(v1*3)\n",
    "print(5*v2)\n"
   ]
  },
  {
   "cell_type": "code",
   "execution_count": 69,
   "metadata": {},
   "outputs": [
    {
     "name": "stdout",
     "output_type": "stream",
     "text": [
      "<0, 5, 10, 15, 20>\n"
     ]
    }
   ],
   "source": [
    "#-------------R-2.14-------------#\n",
    "\n",
    "class VectorWithMult(Vector): \n",
    "  def __mul__(self,other):\n",
    "    if len(self) != len(other):\n",
    "      raise ValueError(\"you cannot multiply vectors with different games\")\n",
    "    else: \n",
    "      result = Vector(len(self))\n",
    "      for i in range(len(self)):\n",
    "        result[i] = self[i] * other[i]\n",
    "      return result\n",
    "\n",
    "v1 = VectorWithMult(5)\n",
    "v2 = VectorWithMult(5)\n",
    "\n",
    "for i in range(5): \n",
    "  v1[i] = i\n",
    "  v2[i] = 5\n",
    "\n",
    "print(v1*v2)"
   ]
  },
  {
   "cell_type": "code",
   "execution_count": 70,
   "metadata": {},
   "outputs": [
    {
     "name": "stdout",
     "output_type": "stream",
     "text": [
      "<13, 14, 15, 16, 17>\n"
     ]
    }
   ],
   "source": [
    "#-------------R-2.15-------------#\n",
    "\n",
    "class VectorSequence(Vector): \n",
    "  def __init__(self, param):\n",
    "    if isinstance(param,int):\n",
    "      super().__init__(param)\n",
    "    else: \n",
    "      self._coords = param\n",
    "\n",
    "v1 = VectorSequence(5)\n",
    "\n",
    "for i in range(5):\n",
    "  v1[i] = 12\n",
    "\n",
    "v2 = VectorSequence([1,2,3,4,5])\n",
    "\n",
    "print(v1 + v2)\n"
   ]
  },
  {
   "cell_type": "code",
   "execution_count": 133,
   "metadata": {},
   "outputs": [
    {
     "name": "stdout",
     "output_type": "stream",
     "text": [
      "0 1 2 3 4\n",
      "2 4 6 10 16 26 42 68 110 178\n"
     ]
    }
   ],
   "source": [
    "#-------------R-2.18-------------#\n",
    "\n",
    "class Progression():\n",
    "    def __init__(self, start=0):\n",
    "        self._current = 0\n",
    "    def _advance(self):\n",
    "        self._current += 1\n",
    "    def __next__(self):\n",
    "        if self._current is None:\n",
    "            raise StopIteration()\n",
    "        else:\n",
    "            answer = self._current\n",
    "            self._advance()\n",
    "            return answer\n",
    "    def __iter__(self):\n",
    "        return self\n",
    "    def print_progression(self, n):\n",
    "        print (' '.join(str(next(self)) for j in range(n)))\n",
    "\n",
    "class Fibonacci(Progression): \n",
    "  def __init__(self, first = 0, second = 1):\n",
    "        self._current = first \n",
    "        self._previous = second\n",
    "        \n",
    "  def __next__(self):\n",
    "        answer = self._current\n",
    "        self._current, self._previous = self._current+self._previous, self._current\n",
    "        return answer\n",
    "    \n",
    "  def __getitem__(self, item):  #Note, not check against negative numbers\n",
    "        current = self._current\n",
    "        previous = self._previous\n",
    "        \n",
    "        for i in range(item+1):\n",
    "            answer = next(self)\n",
    "        \n",
    "        self._current, self._previous = current, previous #Restore the original values\n",
    "        return answer\n",
    "\n",
    "\n",
    "Progression().print_progression(5)\n",
    "Fibonacci(2,2).print_progression(10)\n"
   ]
  },
  {
   "cell_type": "code",
   "execution_count": 136,
   "metadata": {},
   "outputs": [
    {
     "data": {
      "text/plain": [
       "'\\nArithmeticProgression(0,128)\\ni = 0\\ngoal = 2**63\\nvalue = 0\\nwhile value < goal: \\n  i+=1\\n  value = next(ArithmeticProgression(0,128))\\n\\nprint(f\"It requires {i-1} iterations to get 2**63\")\\n'"
      ]
     },
     "execution_count": 136,
     "metadata": {},
     "output_type": "execute_result"
    }
   ],
   "source": [
    "#-------------R-2.19-------------#\n",
    "\n",
    "class ArithmeticProgression(Progression): \n",
    "  def __init__ (self,start=0,step=1):\n",
    "    self._current = start \n",
    "    self._step = step \n",
    "\n",
    "  def __next__ (self): \n",
    "    answer = self._current \n",
    "    self._current = self._current + self._step \n",
    "    return answer\n",
    "\n",
    "  def __getitem__(self,index): \n",
    "    current = self._current \n",
    "    for i in range(index + 1): \n",
    "      answer = next(self)\n",
    "    self._current = current \n",
    "    return(answer)\n",
    "\n",
    "\"\"\"\n",
    "ArithmeticProgression(0,128)\n",
    "i = 0\n",
    "goal = 2**63\n",
    "value = 0\n",
    "while value < goal: \n",
    "  i+=1\n",
    "  value = next(ArithmeticProgression(0,128))\n",
    "\n",
    "print(f\"It requires {i-1} iterations to get 2**63\")\n",
    "\"\"\""
   ]
  },
  {
   "cell_type": "code",
   "execution_count": 143,
   "metadata": {},
   "outputs": [
    {
     "name": "stdout",
     "output_type": "stream",
     "text": [
      "False\n",
      "True\n"
     ]
    }
   ],
   "source": [
    "#-------------R-2.22-------------#\n",
    "\n",
    "from abc import ABCMeta, abstractmethod\n",
    "\n",
    "class Sequence(metaclass = ABCMeta):\n",
    "\n",
    "  @abstractmethod\n",
    "  def __len__ (self): \n",
    "    pass\n",
    "\n",
    "  @abstractmethod\n",
    "  def __getitem__ (self,j):\n",
    "    pass\n",
    "\n",
    "  def __contains__ (self,val): \n",
    "    for i in range(len(self)): \n",
    "      if self[i] == val: return True\n",
    "    return False\n",
    "\n",
    "  def count(self,val): \n",
    "    k = 0\n",
    "    for j in range(len(self)): \n",
    "      if self[j] == val: k+=1\n",
    "    return k \n",
    "\n",
    "  def __eq__ (self,other): \n",
    "    if len(self) != len(other): \n",
    "      return False\n",
    "    else: \n",
    "      for i in range (len(self)): \n",
    "        if self[i] != other[i]:\n",
    "          return False\n",
    "    return True\n",
    "      \n",
    "print(Sequence.__eq__([1,2,3,4],[1,2,3]))\n",
    "print(Sequence.__eq__([1,2,3,4],[1,2,3,4]))\n"
   ]
  },
  {
   "cell_type": "code",
   "execution_count": 146,
   "metadata": {},
   "outputs": [
    {
     "name": "stdout",
     "output_type": "stream",
     "text": [
      "False\n",
      "True\n"
     ]
    }
   ],
   "source": [
    "#-------------R-2.23-------------#\n",
    "\n",
    "class SequenceWLex(Sequence):\n",
    "  \n",
    "  def __len__ (self):\n",
    "    return super().__len__\n",
    "\n",
    "  def __getitem__(self, j):\n",
    "    return super().__getitem__(j)\n",
    "\n",
    "  def __lt__ (self,other): \n",
    "    for i in range (min(len(self),len(other))): \n",
    "      if self[i] <other[i]:\n",
    "        return True\n",
    "      return False \n",
    "\n",
    "print(SequenceWLex.__lt__([1,2,3],[1,2,3,4]))\n",
    "print(SequenceWLex.__lt__([1,2],[3,4]))"
   ]
  },
  {
   "cell_type": "code",
   "execution_count": 149,
   "metadata": {},
   "outputs": [
    {
     "name": "stdout",
     "output_type": "stream",
     "text": [
      "[8, 7, 6, 5, 4, 3, 2, 1]\n",
      "[8, 7, 6, 5, 'a', 3, 2, 1]\n"
     ]
    }
   ],
   "source": [
    "#-------------C-2.26-------------#\n",
    "\n",
    "class ReversedSequenceIterator: \n",
    "  def __init__(self,sequence): \n",
    "    self._seq = sequence \n",
    "    self._k = len(self._seq)\n",
    "\n",
    "  def __next__ (self): \n",
    "    self._k -= 1\n",
    "    if self._k >=0: \n",
    "      return(self._seq[self._k])\n",
    "    else: \n",
    "      raise StopIteration()\n",
    "\n",
    "  def __iter__(self): \n",
    "    return self\n",
    "\n",
    "\n",
    "print([x for x in ReversedSequenceIterator([1,2,3,4,5,6,7,8])])"
   ]
  },
  {
   "cell_type": "code",
   "execution_count": 164,
   "metadata": {},
   "outputs": [
    {
     "name": "stdout",
     "output_type": "stream",
     "text": [
      "309\n",
      "False\n",
      "True\n",
      "False\n"
     ]
    }
   ],
   "source": [
    "#-------------C-2.27-------------#\n",
    "\n",
    "class Range: \n",
    "  def __init__ (self, start, stop=None, step=1):\n",
    "    if step == 0: \n",
    "      raise ValueError(\"step cannot be 0\")\n",
    "    \n",
    "    if stop is None: \n",
    "      start, stop=0, start \n",
    "\n",
    "    self._length = max(0,(stop-start+step -1)//step)\n",
    "\n",
    "    self._start = start\n",
    "    self._step = step\n",
    "    self._stop = stop\n",
    "\n",
    "  def __len__(self):\n",
    "    return self._length\n",
    "\n",
    "  def __getitem__(self,k):\n",
    "    if k<0:\n",
    "      k+=len(self)\n",
    "\n",
    "    if not 0<=k<self._length:\n",
    "      raise IndexError('index out of range')\n",
    "\n",
    "    return self._start + k * self._step\n",
    "\n",
    "  def __contains__ (self,value): \n",
    "    if ((value - self._start) % self._step) != 0: \n",
    "      return False\n",
    "    elif ((value>=self._start)and(self._stop>=value)):\n",
    "      return True\n",
    "    else: \n",
    "      return False \n",
    "\n",
    "print(Range(10,10000,13).__getitem__(23))\n",
    "\n",
    "print(Range(1,10000,13).__contains__(23))\n",
    "print(Range(1,10000,13).__contains__(27))\n",
    "print(Range(1,10000,13).__contains__(9988))"
   ]
  },
  {
   "cell_type": "code",
   "execution_count": null,
   "metadata": {},
   "outputs": [],
   "source": [
    "#-------------C-2.28-------------#\n",
    "\n",
    "class PredatoryCreditCard(CreditCard): \n",
    "    def __init__(self, customer, bank, acnt, limit, apr):\n",
    "      super().__init__(customer, bank, acnt, limit) \n",
    "      self._apr = apr \n",
    "      self._num_charges = 0\n",
    "\n",
    "    def charge(self,price): \n",
    "      success = super().charge(price)\n",
    "      if not success: \n",
    "        self._balance +=5\n",
    "      else: \n",
    "        self._num_charges+=1\n",
    "        if self._num_charges > 10: \n",
    "          self._balance +=1\n",
    "\n",
    "      return success   \n",
    "\n",
    "    def process_month(self): \n",
    "      if self._balance > 0: \n",
    "        monthly_factor = pow(1+self._apr, 1/12)\n",
    "        self._balance *= monthly_factor\n",
    "        self._num_charges = 0\n"
   ]
  },
  {
   "cell_type": "code",
   "execution_count": null,
   "metadata": {},
   "outputs": [],
   "source": [
    "#-------------C-2.29-------------#\n",
    "\n",
    "class PredatoryCCwMonthly(PredatoryCreditCard):\n",
    "\n",
    "  minimum_percentage = 0.1\n",
    "  late_fee = 10\n",
    "\n",
    "  def __init__ (self,customer,bank,acnt,limit,apr): \n",
    "    super().__init__(customer,bank,acnt,limit,apr)\n",
    "    self._minimum_payment = 0\n",
    "\n",
    "  def process_month(self): \n",
    "    super().process_month()\n",
    "    if self._minimum_payment>0:\n",
    "      self._balance += self.late_fee\n",
    "    if self._balance >0: \n",
    "      self._minimum_payment = self._balance * self.minimum_percentage"
   ]
  },
  {
   "cell_type": "code",
   "execution_count": 166,
   "metadata": {},
   "outputs": [
    {
     "name": "stdout",
     "output_type": "stream",
     "text": [
      "2 200 198 2 196 194 2 192 190 2\n"
     ]
    }
   ],
   "source": [
    "#-------------C-2.31-------------#\n",
    "\n",
    "class AbsDiffProgression(Progression): \n",
    "  def __init__ (self, first = 2 , second = 200): \n",
    "    self._current = first\n",
    "    self._prev = 202 \n",
    "\n",
    "  def __next__(self):\n",
    "    answer = self._current \n",
    "    self._current,self._prev = abs(self._current - self._prev), self._current\n",
    "    return answer\n",
    "\n",
    "AbsDiffProgression().print_progression(10)"
   ]
  },
  {
   "cell_type": "code",
   "execution_count": 167,
   "metadata": {},
   "outputs": [
    {
     "name": "stdout",
     "output_type": "stream",
     "text": [
      "65536 256.0 16.0 4.0 2.0 1.4142135623730951 1.189207115002721 1.0905077326652577 1.0442737824274138 1.0218971486541166\n"
     ]
    }
   ],
   "source": [
    "#-------------C-2.32-------------#\n",
    "\n",
    "class SquareRootProgression(Progression): \n",
    "  def __init__(self,value=65536):\n",
    "    self._current = value\n",
    "\n",
    "  def __next__(self): \n",
    "    answer = self._current \n",
    "    self._current = self._current ** 0.5\n",
    "    return answer \n",
    "  \n",
    "SquareRootProgression().print_progression(10)\n"
   ]
  },
  {
   "cell_type": "code",
   "execution_count": null,
   "metadata": {},
   "outputs": [],
   "source": [
    "#-------------P-2.33-------------#\n",
    "\n",
    "\n"
   ]
  },
  {
   "cell_type": "code",
   "execution_count": null,
   "metadata": {},
   "outputs": [],
   "source": [
    "#-------------P-2.34-------------#\n",
    "class AlphabetGraph(): \n",
    "  def __init__(self,filepath):\n",
    "    self._filepath = filepath \n",
    "    "
   ]
  }
 ],
 "metadata": {
  "kernelspec": {
   "display_name": "Python 3.10.6 64-bit",
   "language": "python",
   "name": "python3"
  },
  "language_info": {
   "codemirror_mode": {
    "name": "ipython",
    "version": 3
   },
   "file_extension": ".py",
   "mimetype": "text/x-python",
   "name": "python",
   "nbconvert_exporter": "python",
   "pygments_lexer": "ipython3",
   "version": "3.10.6"
  },
  "orig_nbformat": 4,
  "vscode": {
   "interpreter": {
    "hash": "b0fa6594d8f4cbf19f97940f81e996739fb7646882a419484c72d19e05852a7e"
   }
  }
 },
 "nbformat": 4,
 "nbformat_minor": 2
}
