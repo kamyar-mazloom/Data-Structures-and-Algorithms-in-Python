{
 "cells": [
  {
   "cell_type": "code",
   "execution_count": null,
   "metadata": {},
   "outputs": [],
   "source": [
    "#-------------R-2.1-------------#\n",
    "\"\"\"\n",
    "self driving cars \n",
    "pace maker \n",
    "diving computers \"\"\""
   ]
  },
  {
   "cell_type": "code",
   "execution_count": null,
   "metadata": {},
   "outputs": [],
   "source": [
    "#-------------R-2.2-------------#\n",
    "\n",
    "\"\"\"Calendar app \"\"\""
   ]
  },
  {
   "cell_type": "code",
   "execution_count": null,
   "metadata": {},
   "outputs": [],
   "source": [
    "#-------------R-2.3-------------#\n",
    "\"\"\"\n",
    "saving a file \n",
    "  1. check if the file already exists\n",
    "  2. if the files does not exist create a new file with the name of\n",
    "     file \n",
    "  3. if the file does exist remove the file and replace it with the\n",
    "     current version of the file \n",
    "     \n",
    "\"\"\"\n"
   ]
  },
  {
   "cell_type": "code",
   "execution_count": 13,
   "metadata": {},
   "outputs": [
    {
     "name": "stdout",
     "output_type": "stream",
     "text": [
      "rose 12 2.53\n"
     ]
    }
   ],
   "source": [
    "#-------------R-2.4-------------#\n",
    "\n",
    "class Flower:\n",
    "  \"\"\"a flower class\"\"\"\n",
    "  def __init__(self,name,petal_num,price):\n",
    "    \"\"\"creates a new instance of flower class.\n",
    "      \n",
    "      name ==> is the name of the flower\n",
    "      petal_num ==> is the number of petals the flower has \n",
    "      price ==> is the price of the flower\n",
    "    \"\"\"\n",
    "    self.set_name(name)\n",
    "    self.set_petal_num(petal_num)\n",
    "    self.set_price(price)\n",
    "\n",
    "    \"\"\"setting up the variables\"\"\"\n",
    "\n",
    "  def set_name(self,name): \n",
    "      try: \n",
    "        self._name = str(name)\n",
    "      except: \n",
    "        print(\"invalid data type for name, it should be a string\")\n",
    "\n",
    "  def set_petal_num(self,petal_num):\n",
    "      try: \n",
    "        self._petal_num = int(petal_num)\n",
    "      except:\n",
    "        print(\"invalid data type for number of petals. it should be an int\")\n",
    "      \n",
    "  def set_price(self,price):\n",
    "      try: \n",
    "        self._price = float(price)\n",
    "      except:\n",
    "        print(\"invalid data type for price. it should be a float\")\n",
    "    \n",
    "  \"\"\"\n",
    "  functions for setting the variables and checking to make sure they\n",
    "  have the correct type of data type\n",
    "  \"\"\" \n",
    "\n",
    "  def get_name(self):\n",
    "      if self._name is None: \n",
    "        return (\"name has not yet been assigned\")\n",
    "      else: return self._name  \n",
    "\n",
    "  def get_petal_num(self):\n",
    "      if self._petal_num is None: \n",
    "        return (\"number of petals has not yet been assigned\")\n",
    "      else: return self._petal_num  \n",
    "\n",
    "  def get_price(self):\n",
    "      if self._price is None: \n",
    "        return (\"price has not yet been assigned\")\n",
    "      else: return self._price  \n",
    "\n",
    "  \"\"\"functions for getting the value of each variable\"\"\"  \n",
    "\n",
    "Rose = Flower(\"rose\",12,2.53)\n",
    "print(Rose.get_name(), Rose.get_petal_num(), Rose.get_price())\n",
    "  "
   ]
  },
  {
   "cell_type": "code",
   "execution_count": 24,
   "metadata": {},
   "outputs": [
    {
     "name": "stdout",
     "output_type": "stream",
     "text": [
      "kamyar mazloom bank of America 1234543 5000.0\n",
      "this purchase will move you over the limit of your account.\n",
      "kamyar mazloom bank of America 1234543 5000.0\n",
      "payment amount cannot be less than zero\n",
      "you've paid $2500 of your debt. Your remaining debt is $500.0\n",
      "you've fully paid your debt. your balance has increased to $7000.0\n",
      "kamyar mazloom bank of America 1234543 7000.0\n"
     ]
    }
   ],
   "source": [
    "#-------------R-2.5 & R-2.6-------------#\n",
    "\n",
    "class CreditCard():\n",
    "  def __init__(self, customer, bank, account, limit):\n",
    "    self._customer = customer\n",
    "    self._bank = bank\n",
    "    self._account = account\n",
    "    self._limit = float(limit)\n",
    "    self._balance = 0 #start the balance with zero \n",
    "\n",
    "  def get_customer(self): \n",
    "    return self._customer \n",
    "  def get_bank(self): \n",
    "    return self._bank \n",
    "  def get_account(self): \n",
    "      return self._account \n",
    "  def get_limit(self): \n",
    "      return self._limit \n",
    "\n",
    "  def set_balance(self,value): \n",
    "    self._balance = value\n",
    "  \n",
    "  def charge(self, price): \n",
    "    try: \n",
    "      price = float(price)\n",
    "    except: \n",
    "      print('invalid price. Price should be a number without $ symbol.')\n",
    "    if (price + self._balance > self._limit):\n",
    "      print('this purchase will move you over the limit of your account.')\n",
    "    else: \n",
    "      self._balance += price \n",
    "\n",
    "  def payment(self, amount): \n",
    "    if(amount<0):\n",
    "      print(\"payment amount cannot be less than zero\")\n",
    "    elif (self._balance >= amount): \n",
    "      self._balance -= amount\n",
    "      print(f\"you've paid ${amount} of your debt. Your remaining debt is ${self._balance}\")\n",
    "    else: \n",
    "      self._limit += amount - self._balance\n",
    "      self._balance = 0 \n",
    "      print(f\"you've fully paid your debt. your balance has increased to ${self._limit}\")\n",
    "       \n",
    "CreditCard1 = CreditCard(\"kamyar mazloom\",\"bank of America\",\"1234543\",\"5000\")\n",
    "\n",
    "print(CreditCard1.get_customer(),CreditCard1.get_bank(),\n",
    "CreditCard1.get_account(),CreditCard1.get_limit())\n",
    "\n",
    "CreditCard1.charge(3000)\n",
    "CreditCard1.charge(3000)\n",
    "\n",
    "print(CreditCard1.get_customer(),CreditCard1.get_bank(),\n",
    "CreditCard1.get_account(),CreditCard1.get_limit())\n",
    "\n",
    "CreditCard1.payment(-2500)\n",
    "CreditCard1.payment(2500)\n",
    "CreditCard1.payment(2500)\n",
    "\n",
    "print(CreditCard1.get_customer(),CreditCard1.get_bank(),\n",
    "CreditCard1.get_account(),CreditCard1.get_limit())\n"
   ]
  },
  {
   "cell_type": "code",
   "execution_count": null,
   "metadata": {},
   "outputs": [],
   "source": [
    "#-------------R-2.7-------------#\n",
    "\n",
    "class CreditCardWithBalance(creditCard): \n",
    "  def __init__(self, customer, bank, account, limit, balance):\n",
    "    super().__init__(customer,bank,account,limit)\n",
    "    self.__balance = balance"
   ]
  },
  {
   "cell_type": "code",
   "execution_count": null,
   "metadata": {},
   "outputs": [],
   "source": [
    "#-------------R-2.8-------------#\n"
   ]
  }
 ],
 "metadata": {
  "kernelspec": {
   "display_name": "Python 3.10.6 64-bit",
   "language": "python",
   "name": "python3"
  },
  "language_info": {
   "codemirror_mode": {
    "name": "ipython",
    "version": 3
   },
   "file_extension": ".py",
   "mimetype": "text/x-python",
   "name": "python",
   "nbconvert_exporter": "python",
   "pygments_lexer": "ipython3",
   "version": "3.10.6"
  },
  "orig_nbformat": 4,
  "vscode": {
   "interpreter": {
    "hash": "b0fa6594d8f4cbf19f97940f81e996739fb7646882a419484c72d19e05852a7e"
   }
  }
 },
 "nbformat": 4,
 "nbformat_minor": 2
}
