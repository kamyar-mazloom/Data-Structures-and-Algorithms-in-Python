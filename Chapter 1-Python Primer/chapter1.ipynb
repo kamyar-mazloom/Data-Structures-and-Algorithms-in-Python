{
 "cells": [
  {
   "cell_type": "markdown",
   "id": "4b6f82ec",
   "metadata": {},
   "source": [
    "R-1.1\n",
    "\n",
    "  Write a short Python function, is multiple(n, m), that takes two\n",
    "  integer values and returns True if n is a multiple of m, that is, n = mi for some integer i, and False otherwise."
   ]
  },
  {
   "cell_type": "code",
   "execution_count": null,
   "id": "68061544",
   "metadata": {},
   "outputs": [],
   "source": [
    "#solution\n",
    "def is_multiple(n,m):\n",
    "    if m == 0: return (False)\n",
    "    return (n%m == 0)\n",
    "\n",
    "#test\n",
    "print (is_multiple(10, 2))  #true\n",
    "print (is_multiple(5,3))    #false\n",
    "print (is_multiple(1, -1))  #true\n",
    "print (is_multiple(1,0))    #false"
   ]
  },
  {
   "cell_type": "markdown",
   "id": "d041f2dd",
   "metadata": {},
   "source": [
    "R-1.2\n",
    "\n",
    "  Write a short Python function, is even(k), that takes an integer value and returns True if k is even, and False otherwise. However, your function cannot use the multiplication, modulo, or division operators."
   ]
  },
  {
   "cell_type": "code",
   "execution_count": null,
   "id": "90d9cbe1",
   "metadata": {},
   "outputs": [],
   "source": [
    "#solution\n",
    "def is_even(k):\n",
    "  assert type(k) == int\n",
    "  return(k&1 ==0)\n",
    "\n",
    "#test\n",
    "print(is_even(2))       #true\n",
    "print(is_even(13))      #false\n",
    "print(is_even(0))       #true\n",
    "print(is_even(213454))  #true"
   ]
  },
  {
   "cell_type": "markdown",
   "id": "38166de1",
   "metadata": {},
   "source": [
    "R-1.3 \n",
    "\n",
    "  Write a short Python function, minmax(data), that takes a sequence of one or more numbers, and returns the smallest and largest numbers, in the form of a tuple of length two. Do not use the built-in functions min or max in implementing your solution."
   ]
  },
  {
   "cell_type": "code",
   "execution_count": null,
   "id": "98790b2d",
   "metadata": {},
   "outputs": [],
   "source": [
    "#solution\n",
    "def minmax(data):\n",
    "  data.sort()\n",
    "  return (data[0],data[-1])\n",
    "\n",
    "#test\n",
    "print(minmax([2,1,3,4]))                #(1,4)\n",
    "print(minmax([-100,42456,23456,222]))   #(-100,42465)"
   ]
  },
  {
   "cell_type": "markdown",
   "id": "89d8c64e",
   "metadata": {},
   "source": [
    "R-1.4 & R-1.5\n",
    " \n",
    "  Write a short Python function that takes a positive integer n and\n",
    "  returns the sum of the squares of all the positive integers smaller\n",
    "  than n.\n",
    "  \n",
    "  Give a single command that computes the sum from Exercise R-1.4, rely- ing on Python’s comprehension syntax and the built-in sum function."
   ]
  },
  {
   "cell_type": "code",
   "execution_count": null,
   "id": "e93d9242",
   "metadata": {},
   "outputs": [],
   "source": [
    "#solution\n",
    "def sum_of_square_positive(number):\n",
    "  return(sum(x*x for x in range(1,number)))\n",
    "\n",
    "#test\n",
    "print(sum_of_square_positive(2))    #1\n",
    "print(sum_of_square_positive(3))    #5\n",
    "print(sum_of_square_positive(100))  #328,350"
   ]
  },
  {
   "cell_type": "markdown",
   "id": "d601832e",
   "metadata": {},
   "source": [
    "R-1.6 & r-1.7\n",
    "\n",
    "  Write a short Python function that takes a positive integer n and returns the sum of the squares of all the odd positive integers smaller than n."
   ]
  },
  {
   "cell_type": "code",
   "execution_count": null,
   "id": "b4869674",
   "metadata": {},
   "outputs": [],
   "source": [
    "#solution\n",
    "def sum_of_square_odd(number):\n",
    "  return(sum(x*x for x in range(0,number)if x%2==1))\n",
    "\n",
    "#test \n",
    "print(sum_of_square_odd(3))     #1\n",
    "print(sum_of_square_odd(4))     #10\n",
    "print(sum_of_square_odd(100))   #166,650"
   ]
  },
  {
   "cell_type": "markdown",
   "id": "0ce31da7",
   "metadata": {},
   "source": [
    "R-1.8 \n",
    "\n",
    "Python allows negative integers to be used as indices into a sequence, such as a string. If string s has length n, and expression s[k] is used for in- dex −n ≤ k < 0, what is the equivalent index j ≥ 0 such that s[j] references the same element?"
   ]
  },
  {
   "cell_type": "code",
   "execution_count": null,
   "id": "e44b8f23",
   "metadata": {},
   "outputs": [],
   "source": [
    "\"Answer is n+k\""
   ]
  },
  {
   "cell_type": "markdown",
   "id": "37a7ebc6",
   "metadata": {},
   "source": [
    "R-1.9\n",
    "\n",
    "What parameters should be sent to the range constructor, to produce a range with values 50, 60, 70, 80?"
   ]
  },
  {
   "cell_type": "code",
   "execution_count": null,
   "id": "1dcf17cb",
   "metadata": {},
   "outputs": [],
   "source": [
    "print(list(range(50,90,10)))"
   ]
  },
  {
   "cell_type": "markdown",
   "id": "448121c8",
   "metadata": {},
   "source": [
    "R-1.10 \n",
    "\n",
    "What parameters should be sent to the range constructor, to produce a range with values 8, 6, 4, 2, 0, −2, −4, −6, −8?"
   ]
  },
  {
   "cell_type": "code",
   "execution_count": null,
   "id": "e9e7ea5c",
   "metadata": {},
   "outputs": [],
   "source": [
    "print(list(range(8,-10,-2)))"
   ]
  },
  {
   "cell_type": "markdown",
   "id": "0e68b890",
   "metadata": {},
   "source": [
    "R-1.11 \n",
    "\n",
    "Demonstrate how to use Python’s list comprehension syntax to produce the list [1, 2, 4, 8, 16, 32, 64, 128, 256]."
   ]
  },
  {
   "cell_type": "code",
   "execution_count": null,
   "id": "db077728",
   "metadata": {},
   "outputs": [],
   "source": [
    "list=[]\n",
    "\n",
    "for x in range (0,9):\n",
    "  list.append(2**x)\n",
    "\n",
    "print(list)"
   ]
  },
  {
   "cell_type": "markdown",
   "id": "df507836",
   "metadata": {},
   "source": [
    "R-1.12 \n",
    "\n",
    "Python’s random module includes a function choice(data) that returns a random element from a non-empty sequence. The random module includes a more basic function randrange, with parameterization similar to the built-in range function, that return a random choice from the given range. Using only the randrange function, implement your own version of the choice function."
   ]
  },
  {
   "cell_type": "code",
   "execution_count": null,
   "id": "5b021a48",
   "metadata": {},
   "outputs": [],
   "source": [
    "import random \n",
    "\n",
    "print(random.randrange(3,9))"
   ]
  },
  {
   "cell_type": "markdown",
   "id": "6c3c5502",
   "metadata": {},
   "source": [
    "C-1.13\n",
    "\n",
    "Write a pseudo-code description of a function that reverses a list of n integers, so that the numbers are listed in the opposite order than they were before, and compare this method to an equivalent Python function for doing the same thing."
   ]
  },
  {
   "cell_type": "code",
   "execution_count": null,
   "id": "c064dc81",
   "metadata": {},
   "outputs": [],
   "source": [
    "def reverse_list(list): \n",
    "  l = len(list)\n",
    "  new_list=[]\n",
    "  for i in range(l):\n",
    "    new_list.append(list[l-i-1])\n",
    "  return new_list\n",
    "\n",
    "print(reverse_list([1,2,3,4]))"
   ]
  },
  {
   "cell_type": "markdown",
   "id": "c421344e",
   "metadata": {},
   "source": [
    "C-1.14\n",
    "\n",
    "Write a short Python function that takes a sequence of integer values and determines if there is a distinct pair of numbers in the sequence whose product is odd."
   ]
  },
  {
   "cell_type": "code",
   "execution_count": null,
   "id": "69fe9606",
   "metadata": {},
   "outputs": [],
   "source": [
    "def distinct_odd_pair(number):\n",
    "  list = [int(i) for i in str(number)]\n",
    "  filtered_list = [*set(i for i in list if i%2==1)]\n",
    "  for i in range (0,len(filtered_list)):\n",
    "    for j in range (0,len(filtered_list)):\n",
    "      if i !=j:\n",
    "        print((filtered_list[i],filtered_list[j]))\n",
    "\n",
    "distinct_odd_pair(1212343456780987656789)"
   ]
  },
  {
   "cell_type": "markdown",
   "id": "ef48d517",
   "metadata": {},
   "source": [
    "C-1.15 \n",
    "\n",
    "Write a Python function that takes a sequence of numbers and determines if all the numbers are different from each other (that is, they are distinct)."
   ]
  },
  {
   "cell_type": "code",
   "execution_count": 7,
   "id": "580442c7",
   "metadata": {},
   "outputs": [
    {
     "name": "stdout",
     "output_type": "stream",
     "text": [
      "young money\n"
     ]
    }
   ],
   "source": [
    "def sequence_checker(number):\n",
    "  unique_list = [*set(int(i) for i in str(number))]\n",
    "  print(unique_list)\n",
    "\n",
    "sequence_checker(123)"
   ]
  }
 ],
 "metadata": {
  "kernelspec": {
   "display_name": "Python 3.10.6 64-bit",
   "language": "python",
   "name": "python3"
  },
  "language_info": {
   "codemirror_mode": {
    "name": "ipython",
    "version": 3
   },
   "file_extension": ".py",
   "mimetype": "text/x-python",
   "name": "python",
   "nbconvert_exporter": "python",
   "pygments_lexer": "ipython3",
   "version": "3.10.6"
  },
  "vscode": {
   "interpreter": {
    "hash": "b0fa6594d8f4cbf19f97940f81e996739fb7646882a419484c72d19e05852a7e"
   }
  }
 },
 "nbformat": 4,
 "nbformat_minor": 5
}
