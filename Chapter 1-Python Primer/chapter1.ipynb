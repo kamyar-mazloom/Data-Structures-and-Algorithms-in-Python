{
 "cells": [
  {
   "cell_type": "code",
   "execution_count": null,
   "id": "68061544",
   "metadata": {},
   "outputs": [],
   "source": [
    "#-------------R-1.1-------------# \n",
    "\n",
    "def is_multiple(n,m):\n",
    "    if m == 0: return (False)\n",
    "    return (n%m == 0)\n",
    "\n",
    "print (is_multiple(10, 2))  \n",
    "print (is_multiple(5,3))    \n",
    "print (is_multiple(1, -1))  \n",
    "print (is_multiple(1,0))   "
   ]
  },
  {
   "cell_type": "code",
   "execution_count": null,
   "id": "90d9cbe1",
   "metadata": {},
   "outputs": [],
   "source": [
    "#-------------R-1.2-------------#\n",
    "\n",
    "def is_even(k):\n",
    "  assert type(k) == int\n",
    "  return(k&1 ==0)\n",
    "\n",
    "print(is_even(2))       \n",
    "print(is_even(13))      \n",
    "print(is_even(0))       \n",
    "print(is_even(213454))  "
   ]
  },
  {
   "cell_type": "code",
   "execution_count": null,
   "id": "98790b2d",
   "metadata": {},
   "outputs": [],
   "source": [
    "#-------------R-1.3-------------#\n",
    "\n",
    "def minmax(data):\n",
    "  data.sort()\n",
    "  return (data[0],data[-1])\n",
    "\n",
    "print(minmax([2,1,3,4]))                \n",
    "print(minmax([-100,42456,23456,222]))   "
   ]
  },
  {
   "cell_type": "code",
   "execution_count": null,
   "id": "e93d9242",
   "metadata": {},
   "outputs": [],
   "source": [
    "#-------------R-1.4 & R-1.5-------------#\n",
    "\n",
    "def sum_of_square_positive(number):\n",
    "  return(sum(x*x for x in range(1,number)))\n",
    "\n",
    "print(sum_of_square_positive(2))    \n",
    "print(sum_of_square_positive(3))    \n",
    "print(sum_of_square_positive(100))  "
   ]
  },
  {
   "cell_type": "code",
   "execution_count": null,
   "id": "b4869674",
   "metadata": {},
   "outputs": [],
   "source": [
    "#-------------R-1.4 & R-1.5-------------#\n",
    "\n",
    "def sum_of_square_odd(number):\n",
    "  return(sum(x*x for x in range(0,number)if x%2==1))\n",
    "\n",
    "print(sum_of_square_odd(3))     \n",
    "print(sum_of_square_odd(4))     \n",
    "print(sum_of_square_odd(100))   "
   ]
  },
  {
   "cell_type": "code",
   "execution_count": null,
   "id": "e44b8f23",
   "metadata": {},
   "outputs": [],
   "source": [
    "#-------------R-1.8-------------#\n",
    "\n",
    "\"Answer is n+k\""
   ]
  },
  {
   "cell_type": "code",
   "execution_count": null,
   "id": "1dcf17cb",
   "metadata": {},
   "outputs": [],
   "source": [
    "#-------------R-1.9-------------#\n",
    "\n",
    "print(list(range(50,90,10)))"
   ]
  },
  {
   "cell_type": "code",
   "execution_count": null,
   "id": "e9e7ea5c",
   "metadata": {},
   "outputs": [],
   "source": [
    "#-------------R-1.10-------------#\n",
    "\n",
    "print(list(range(8,-10,-2)))"
   ]
  },
  {
   "cell_type": "code",
   "execution_count": null,
   "id": "db077728",
   "metadata": {},
   "outputs": [],
   "source": [
    "#-------------R-1.11-------------#\n",
    "\n",
    "list=[]\n",
    "\n",
    "for x in range (0,9):\n",
    "  list.append(2**x)\n",
    "\n",
    "print(list)"
   ]
  },
  {
   "cell_type": "code",
   "execution_count": null,
   "id": "5b021a48",
   "metadata": {},
   "outputs": [],
   "source": [
    "#-------------R-1.12-------------#\n",
    "\n",
    "import random \n",
    "\n",
    "print(random.randrange(3,9))"
   ]
  },
  {
   "cell_type": "code",
   "execution_count": null,
   "id": "c064dc81",
   "metadata": {},
   "outputs": [],
   "source": [
    "#-------------C-1.13-------------#\n",
    "\n",
    "def reverse_list(list): \n",
    "  l = len(list)\n",
    "  new_list=[]\n",
    "  for i in range(l):\n",
    "    new_list.append(list[l-i-1])\n",
    "  return new_list\n",
    "\n",
    "print(reverse_list([1,2,3,4]))"
   ]
  },
  {
   "cell_type": "code",
   "execution_count": null,
   "id": "69fe9606",
   "metadata": {},
   "outputs": [],
   "source": [
    "#-------------C-1.14-------------#\n",
    "\n",
    "def distinct_odd_pair(number):\n",
    "  list = [int(i) for i in str(number)]\n",
    "  filtered_list = [*set(i for i in list if i%2==1)]\n",
    "  for i in range (0,len(filtered_list)):\n",
    "    for j in range (0,len(filtered_list)):\n",
    "      if i !=j:\n",
    "        print((filtered_list[i],filtered_list[j]))\n",
    "\n",
    "distinct_odd_pair(1212343456780987656789)"
   ]
  },
  {
   "cell_type": "code",
   "execution_count": null,
   "id": "580442c7",
   "metadata": {},
   "outputs": [],
   "source": [
    "#-------------C-1.15-------------#\n",
    "\n",
    "def sequence_checker(list):\n",
    "  unique_list = [*set(int(i) for i in list)]\n",
    "  \n",
    "  if len(list) == len(unique_list):\n",
    "    print(\"all the numbers are unique\")\n",
    "  else:\n",
    "    print(\"there were duplicate numbers\")\n",
    "\n",
    "\n",
    "\n",
    "sequence_checker([1,12,1234,4232,44332])\n",
    "sequence_checker([12,12,1234,4232,44332])"
   ]
  },
  {
   "cell_type": "code",
   "execution_count": null,
   "id": "7e4088b7",
   "metadata": {},
   "outputs": [],
   "source": [
    "#-------------C-1.16-------------#\n",
    "\n",
    "# even though the object is immutable the list is mutable. So what is\n",
    "# happening here is the list referencing the newly created object\n",
    "# instead of the unchanged original object"
   ]
  },
  {
   "cell_type": "code",
   "execution_count": null,
   "id": "941f3663",
   "metadata": {},
   "outputs": [],
   "source": [
    "#-------------C-1.17-------------#\n",
    "\n",
    "# val *= factor creates a new instance of val but does not change the\n",
    "# referenced element in data, instead it changes the original array"
   ]
  },
  {
   "cell_type": "code",
   "execution_count": null,
   "id": "da14c221",
   "metadata": {},
   "outputs": [],
   "source": [
    "#-------------C-1.18-------------#\n",
    "\n",
    "list=[]\n",
    "\n",
    "for i in range (10):\n",
    "  list.append(i*(i+1))\n",
    "\n",
    "print(list) "
   ]
  },
  {
   "cell_type": "code",
   "execution_count": null,
   "id": "06da9553",
   "metadata": {},
   "outputs": [],
   "source": [
    "#-------------C-1.19-------------#\n",
    "\n",
    "list=[]\n",
    "\n",
    "for i in range(26):\n",
    "  list.append(chr(97+i))\n",
    "\n",
    "print(list)"
   ]
  },
  {
   "cell_type": "code",
   "execution_count": null,
   "id": "ec0124e0",
   "metadata": {},
   "outputs": [],
   "source": [
    "#-------------C-1.20-------------#\n",
    "\n",
    "import random\n",
    "\n",
    "def randomized(l):\n",
    "  randomized_list=[]\n",
    "  final_list=[]\n",
    "  \n",
    "  while len(final_list) != 9:\n",
    "    randomized_list.append(list[random.randint(0,len(l)-1)])\n",
    "    final_list = [*dict.fromkeys(randomized_list)]\n",
    "  return final_list\n",
    "\n",
    "print(randomized([1,2,3,4,5,6,7,8,9]))"
   ]
  },
  {
   "cell_type": "code",
   "execution_count": null,
   "id": "7fb56ca2",
   "metadata": {},
   "outputs": [],
   "source": [
    "#-------------C-1.21-------------#\n",
    "\n",
    "def read_inputs(filepath):\n",
    "  fp = open(filepath)\n",
    "  entries = []\n",
    "\n",
    "  while True: \n",
    "    try:\n",
    "      entry = fp.readline()\n",
    "      if entry == \"\" : raise EOFError\n",
    "      entries.append(entry[:-1])\n",
    "    except EOFError:\n",
    "      for entry in reversed(entries):\n",
    "        print(entry)\n",
    "      return  \n",
    "\n",
    "read_inputs(r'SampleFiles/Chapter1ExampleText.txt')"
   ]
  },
  {
   "cell_type": "code",
   "execution_count": 167,
   "id": "60df2f7c",
   "metadata": {},
   "outputs": [
    {
     "name": "stdout",
     "output_type": "stream",
     "text": [
      "[7, 1495, 16, 2408, 228, 20]\n"
     ]
    }
   ],
   "source": [
    "#-------------C-1.22-------------#\n",
    "\n",
    "c=[]\n",
    "\n",
    "def dot_product(a,b):\n",
    "  for i in range (len(a)):\n",
    "    c.append(a[i]*b[i])\n",
    "  return c\n",
    "\n",
    "print(dot_product([1,23,4,56,76,5],[7,65,4,43,3,4]))"
   ]
  },
  {
   "cell_type": "code",
   "execution_count": null,
   "id": "2ff0a38c",
   "metadata": {},
   "outputs": [],
   "source": [
    "#-------------C-1.23-------------#\n",
    "\n",
    "list=[1,2,3,4,5,6,7,8,9]\n",
    "\n",
    "def buffer_overflow_handler (list,index,value):\n",
    "  try:\n",
    "    list[index] = value\n",
    "  except: \n",
    "    print (\"Don't try buffer overflow in python\")\n",
    "\n",
    "buffer_overflow_handler(list,1,100)\n",
    "buffer_overflow_handler(list,3,100)\n",
    "buffer_overflow_handler(list,4,100)\n",
    "buffer_overflow_handler(list,200,100)\n",
    "\n",
    "print(list)"
   ]
  }
 ],
 "metadata": {
  "kernelspec": {
   "display_name": "Python 3.10.6 64-bit",
   "language": "python",
   "name": "python3"
  },
  "language_info": {
   "codemirror_mode": {
    "name": "ipython",
    "version": 3
   },
   "file_extension": ".py",
   "mimetype": "text/x-python",
   "name": "python",
   "nbconvert_exporter": "python",
   "pygments_lexer": "ipython3",
   "version": "3.10.6"
  },
  "vscode": {
   "interpreter": {
    "hash": "b0fa6594d8f4cbf19f97940f81e996739fb7646882a419484c72d19e05852a7e"
   }
  }
 },
 "nbformat": 4,
 "nbformat_minor": 5
}
