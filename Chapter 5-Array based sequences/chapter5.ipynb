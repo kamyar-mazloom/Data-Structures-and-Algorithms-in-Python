{
 "cells": [
  {
   "cell_type": "code",
   "execution_count": null,
   "metadata": {},
   "outputs": [],
   "source": [
    "#-------------R-5.1-------------#\n",
    "\n",
    "import sys \n",
    "\n",
    "def increase_size(n):\n",
    "  data=[]\n",
    "  for k in range(n): \n",
    "    a = len(data)\n",
    "    b = sys.getsizeof(data)\n",
    "    print(f\"length: {a}; size in bytes: {b}\")\n",
    "    data.append(None)\n",
    "\n",
    "increase_size(100)\n",
    "\n",
    "\"\"\"\n",
    "for me the results are lower than the 16 bytes lower than the amount\n",
    "shown in the book but otherwise the mount increased is always the same\"\"\""
   ]
  },
  {
   "cell_type": "code",
   "execution_count": null,
   "metadata": {},
   "outputs": [],
   "source": [
    "#-------------R-5.2-------------#\n",
    "\n",
    "import sys \n",
    "\n",
    "def increase_size(n):\n",
    "  data=[]\n",
    "  old_size = 0\n",
    "  for k in range(n): \n",
    "    size = sys.getsizeof(data)\n",
    "    if size != old_size: \n",
    "      print(len(f\"{data}, \"))\n",
    "    old_size = size\n",
    "    data.append(None)\n",
    "\n",
    "increase_size(100)\n"
   ]
  },
  {
   "cell_type": "code",
   "execution_count": null,
   "metadata": {},
   "outputs": [],
   "source": [
    "#-------------R-5.3-------------#\n",
    "\n",
    "import sys \n",
    "\n",
    "data = []\n",
    "\n",
    "def increase_size(n):\n",
    "  for k in range(n): \n",
    "    data.append(None)\n",
    "\n",
    "def decrease_size(n):\n",
    "  for k in range(n): \n",
    "    a = len(data)\n",
    "    b = sys.getsizeof(data)\n",
    "    print(f\"length: {a}; size in bytes: {b}\")\n",
    "    data.pop(1)\n",
    "\n",
    "increase_size(100)\n",
    "decrease_size(100)"
   ]
  },
  {
   "cell_type": "code",
   "execution_count": null,
   "metadata": {},
   "outputs": [],
   "source": [
    "#-------------R-5.4-------------#\n",
    "\n",
    "import ctypes\n",
    "\n",
    "class DynamicArray: \n",
    "\n",
    "  def __init__(self): \n",
    "    self._n = 0\n",
    "    self._capacity = 1\n",
    "    self._A = self._make_array(self._capacity)\n",
    "\n",
    "  def __len__(self):\n",
    "    return self._n\n",
    "\n",
    "  def __getitem__(self,k): \n",
    "    if k < 0: \n",
    "      x = abs(round(k / self._n))\n",
    "      k = k * x\n",
    "\n",
    "    elif not 0<=k<self._n: \n",
    "      raise IndexError(\"invalid index\")\n",
    "    return self._A[k]\n",
    "\n",
    "  def append(self,obj): \n",
    "    if self._n == self._capacity: \n",
    "      self._resize(2 * self._capacity)\n",
    "    self._A[self._n] = object\n",
    "    self._n += 1 \n",
    "\n",
    "  def _resize(self,c): \n",
    "    B = self._make_array(c)\n",
    "    for k in range(self._n): \n",
    "      B[k] = self._A[k]\n",
    "    self._A = B\n",
    "    self._capacity = c \n",
    "\n",
    "  def _make_array(self,c): \n",
    "    return(c*ctypes.py_object)()"
   ]
  }
 ],
 "metadata": {
  "kernelspec": {
   "display_name": "Python 3.10.6 64-bit",
   "language": "python",
   "name": "python3"
  },
  "language_info": {
   "codemirror_mode": {
    "name": "ipython",
    "version": 3
   },
   "file_extension": ".py",
   "mimetype": "text/x-python",
   "name": "python",
   "nbconvert_exporter": "python",
   "pygments_lexer": "ipython3",
   "version": "3.10.6"
  },
  "orig_nbformat": 4,
  "vscode": {
   "interpreter": {
    "hash": "b0fa6594d8f4cbf19f97940f81e996739fb7646882a419484c72d19e05852a7e"
   }
  }
 },
 "nbformat": 4,
 "nbformat_minor": 2
}
